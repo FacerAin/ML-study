{
 "cells": [
  {
   "cell_type": "code",
   "execution_count": 1,
   "metadata": {},
   "outputs": [],
   "source": [
    "import torch \n",
    "import torch.nn as nn\n",
    "import torch.nn.functional as F\n",
    "from torch.utils.data import Dataset\n",
    "from torch.utils.data import DataLoader"
   ]
  },
  {
   "cell_type": "code",
   "execution_count": 2,
   "metadata": {},
   "outputs": [],
   "source": [
    "x_train = torch.FloatTensor([[73, 80, 75],\n",
    "                            [93, 88, 93],\n",
    "                            [89, 91, 90],\n",
    "                            [96,98,100],\n",
    "                            [73, 66, 70]])\n",
    "y_train = torch.FloatTensor([[152],[185],[180],[196],[142]])\n",
    "W = torch.zeros((3,1), requires_grad = True)\n",
    "b = torch.zeros(1, requires_grad = True)\n",
    "optimizer = torch.optim.SGD([W,b], lr=1e-5)\n"
   ]
  },
  {
   "cell_type": "code",
   "execution_count": 3,
   "metadata": {},
   "outputs": [
    {
     "name": "stdout",
     "output_type": "stream",
     "text": [
      "Epoch    0/20 hypothesis: tensor([0., 0., 0., 0., 0.]) Cost: 29661.800781\n",
      "Epoch    1/20 hypothesis: tensor([67.2578, 80.8397, 79.6523, 86.7394, 61.6605]) Cost: 9298.520508\n",
      "Epoch    2/20 hypothesis: tensor([104.9128, 126.0990, 124.2466, 135.3015,  96.1821]) Cost: 2915.712646\n",
      "Epoch    3/20 hypothesis: tensor([125.9942, 151.4381, 149.2133, 162.4896, 115.5097]) Cost: 915.040527\n",
      "Epoch    4/20 hypothesis: tensor([137.7968, 165.6247, 163.1911, 177.7112, 126.3307]) Cost: 287.936005\n",
      "Epoch    5/20 hypothesis: tensor([144.4044, 173.5674, 171.0168, 186.2332, 132.3891]) Cost: 91.371017\n",
      "Epoch    6/20 hypothesis: tensor([148.1035, 178.0144, 175.3980, 191.0042, 135.7812]) Cost: 29.758139\n",
      "Epoch    7/20 hypothesis: tensor([150.1744, 180.5042, 177.8508, 193.6753, 137.6805]) Cost: 10.445305\n",
      "Epoch    8/20 hypothesis: tensor([151.3336, 181.8983, 179.2240, 195.1707, 138.7440]) Cost: 4.391228\n",
      "Epoch    9/20 hypothesis: tensor([151.9824, 182.6789, 179.9928, 196.0079, 139.3396]) Cost: 2.493135\n",
      "Epoch   10/20 hypothesis: tensor([152.3454, 183.1161, 180.4231, 196.4765, 139.6732]) Cost: 1.897688\n",
      "Epoch   11/20 hypothesis: tensor([152.5485, 183.3610, 180.6640, 196.7389, 139.8602]) Cost: 1.710541\n",
      "Epoch   12/20 hypothesis: tensor([152.6620, 183.4982, 180.7988, 196.8857, 139.9651]) Cost: 1.651413\n",
      "Epoch   13/20 hypothesis: tensor([152.7253, 183.5752, 180.8742, 196.9678, 140.0240]) Cost: 1.632387\n",
      "Epoch   14/20 hypothesis: tensor([152.7606, 183.6184, 180.9164, 197.0138, 140.0571]) Cost: 1.625923\n",
      "Epoch   15/20 hypothesis: tensor([152.7802, 183.6427, 180.9399, 197.0395, 140.0759]) Cost: 1.623412\n",
      "Epoch   16/20 hypothesis: tensor([152.7909, 183.6565, 180.9530, 197.0538, 140.0865]) Cost: 1.622141\n",
      "Epoch   17/20 hypothesis: tensor([152.7968, 183.6643, 180.9603, 197.0618, 140.0927]) Cost: 1.621253\n",
      "Epoch   18/20 hypothesis: tensor([152.7999, 183.6688, 180.9644, 197.0662, 140.0963]) Cost: 1.620500\n",
      "Epoch   19/20 hypothesis: tensor([152.8014, 183.6715, 180.9666, 197.0686, 140.0985]) Cost: 1.619770\n",
      "Epoch   20/20 hypothesis: tensor([152.8020, 183.6731, 180.9677, 197.0699, 140.1000]) Cost: 1.619033\n"
     ]
    }
   ],
   "source": [
    "nb_epochs = 20\n",
    "for epoch in range(nb_epochs + 1):\n",
    "    hypothesis = x_train.matmul(W) + b\n",
    "    \n",
    "    cost = torch.mean((hypothesis - y_train) ** 2)\n",
    "    \n",
    "    optimizer.zero_grad()\n",
    "    cost.backward()\n",
    "    optimizer.step()\n",
    "    print('Epoch {:4d}/{} hypothesis: {} Cost: {:.6f}'.format(\n",
    "    epoch, nb_epochs, hypothesis.squeeze().detach(),cost.item()\n",
    "    ))"
   ]
  },
  {
   "cell_type": "code",
   "execution_count": 4,
   "metadata": {},
   "outputs": [],
   "source": [
    "class MultivariateLinearRegressionModel(nn.Module):\n",
    "    def __init__(self):\n",
    "        super().__init__()\n",
    "        self.linear = nn.Linear(3,1)\n",
    "        \n",
    "    def forward(self, x):\n",
    "        return self.linear(x)"
   ]
  },
  {
   "cell_type": "code",
   "execution_count": 5,
   "metadata": {},
   "outputs": [],
   "source": [
    "x_train = torch.FloatTensor([[73, 80, 75],\n",
    "                            [93, 88, 93],\n",
    "                            [89, 91, 90],\n",
    "                            [96,98,100],\n",
    "                            [73, 66, 70]])\n",
    "y_train = torch.FloatTensor([[152],[185],[180],[196],[142]])\n",
    "model = MultivariateLinearRegressionModel()\n",
    "optimizer = torch.optim.SGD(model.parameters(), lr = 1e-5)\n"
   ]
  },
  {
   "cell_type": "code",
   "execution_count": 6,
   "metadata": {},
   "outputs": [
    {
     "name": "stdout",
     "output_type": "stream",
     "text": [
      "Epoch    0/20 hypothesis: tensor([51.7801, 58.7447, 59.6697, 64.5375, 44.4095]) Cost: 13454.020508\n",
      "Epoch    1/20 hypothesis: tensor([ 97.0682, 113.1794, 113.3043, 122.9443,  85.9298]) Cost: 4221.004883\n",
      "Epoch    2/20 hypothesis: tensor([122.4230, 143.6557, 143.3322, 155.6440, 109.1759]) Cost: 1326.943359\n",
      "Epoch    3/20 hypothesis: tensor([136.6178, 160.7184, 160.1436, 173.9512, 122.1909]) Cost: 419.806793\n",
      "Epoch    4/20 hypothesis: tensor([144.5646, 170.2716, 169.5555, 184.2007, 129.4778]) Cost: 135.465546\n",
      "Epoch    5/20 hypothesis: tensor([149.0133, 175.6203, 174.8248, 189.9389, 133.5579]) Cost: 46.337666\n",
      "Epoch    6/20 hypothesis: tensor([151.5035, 178.6151, 177.7748, 193.1514, 135.8425]) Cost: 18.398808\n",
      "Epoch    7/20 hypothesis: tensor([152.8974, 180.2921, 179.4262, 194.9499, 137.1220]) Cost: 9.639346\n",
      "Epoch    8/20 hypothesis: tensor([153.6773, 181.2312, 180.3507, 195.9567, 137.8387]) Cost: 6.891710\n",
      "Epoch    9/20 hypothesis: tensor([154.1136, 181.7573, 180.8681, 196.5203, 138.2403]) Cost: 6.028484\n",
      "Epoch   10/20 hypothesis: tensor([154.3574, 182.0520, 181.1577, 196.8358, 138.4655]) Cost: 5.755890\n",
      "Epoch   11/20 hypothesis: tensor([154.4936, 182.2174, 181.3197, 197.0123, 138.5919]) Cost: 5.668434\n",
      "Epoch   12/20 hypothesis: tensor([154.5694, 182.3102, 181.4103, 197.1110, 138.6631]) Cost: 5.638992\n",
      "Epoch   13/20 hypothesis: tensor([154.6114, 182.3625, 181.4609, 197.1662, 138.7033]) Cost: 5.627744\n",
      "Epoch   14/20 hypothesis: tensor([154.6346, 182.3920, 181.4891, 197.1970, 138.7262]) Cost: 5.622235\n",
      "Epoch   15/20 hypothesis: tensor([154.6471, 182.4088, 181.5048, 197.2141, 138.7393]) Cost: 5.618487\n",
      "Epoch   16/20 hypothesis: tensor([154.6538, 182.4184, 181.5134, 197.2236, 138.7470]) Cost: 5.615304\n",
      "Epoch   17/20 hypothesis: tensor([154.6571, 182.4241, 181.5182, 197.2289, 138.7517]) Cost: 5.612317\n",
      "Epoch   18/20 hypothesis: tensor([154.6586, 182.4276, 181.5207, 197.2317, 138.7547]) Cost: 5.609334\n",
      "Epoch   19/20 hypothesis: tensor([154.6590, 182.4298, 181.5220, 197.2332, 138.7567]) Cost: 5.606389\n",
      "Epoch   20/20 hypothesis: tensor([154.6588, 182.4313, 181.5226, 197.2339, 138.7582]) Cost: 5.603467\n"
     ]
    }
   ],
   "source": [
    "nb_epochs = 20\n",
    "for epoch in range(nb_epochs + 1):\n",
    "    #hypothesis = x_train.matmul(W) + b\n",
    "    hypothesis = model(x_train)\n",
    "    #cost = torch.mean((hypothesis - y_train) ** 2)\n",
    "    cost = F.mse_loss(hypothesis, y_train)\n",
    "    \n",
    "    optimizer.zero_grad()\n",
    "    cost.backward()\n",
    "    optimizer.step()\n",
    "    \n",
    "    print('Epoch {:4d}/{} hypothesis: {} Cost: {:.6f}'.format(\n",
    "    epoch, nb_epochs, hypothesis.squeeze().detach(),cost.item()\n",
    "    ))"
   ]
  },
  {
   "cell_type": "code",
   "execution_count": 7,
   "metadata": {},
   "outputs": [],
   "source": [
    "# Dataset 상속\n",
    "class CustomDataset(Dataset): \n",
    "  def __init__(self):\n",
    "    self.x_data = [[73, 80, 75],\n",
    "                   [93, 88, 93],\n",
    "                   [89, 91, 90],\n",
    "                   [96, 98, 100],\n",
    "                   [73, 66, 70]]\n",
    "    self.y_data = [[152], [185], [180], [196], [142]]\n",
    "\n",
    "  def __len__(self): \n",
    "    return len(self.x_data)\n",
    "\n",
    "  def __getitem__(self, idx): \n",
    "    x = torch.FloatTensor(self.x_data[idx])\n",
    "    y = torch.FloatTensor(self.y_data[idx])\n",
    "    return x, y"
   ]
  },
  {
   "cell_type": "code",
   "execution_count": 8,
   "metadata": {},
   "outputs": [],
   "source": [
    "dataset = CustomDataset()\n",
    "dataloader = DataLoader(dataset, batch_size=2, shuffle=True)\n",
    "model = torch.nn.Linear(3,1)\n",
    "optimizer = torch.optim.SGD(model.parameters(), lr=1e-5) "
   ]
  },
  {
   "cell_type": "code",
   "execution_count": 9,
   "metadata": {},
   "outputs": [
    {
     "name": "stdout",
     "output_type": "stream",
     "text": [
      "Epoch    0/20 Batch 1/3 Cost: 67687.375000\n",
      "Epoch    0/20 Batch 2/3 Cost: 10412.546875\n",
      "Epoch    0/20 Batch 3/3 Cost: 3224.344238\n",
      "Epoch    1/20 Batch 1/3 Cost: 1891.636719\n",
      "Epoch    1/20 Batch 2/3 Cost: 634.791382\n",
      "Epoch    1/20 Batch 3/3 Cost: 171.026184\n",
      "Epoch    2/20 Batch 1/3 Cost: 50.993980\n",
      "Epoch    2/20 Batch 2/3 Cost: 39.076263\n",
      "Epoch    2/20 Batch 3/3 Cost: 0.897572\n",
      "Epoch    3/20 Batch 1/3 Cost: 7.412028\n",
      "Epoch    3/20 Batch 2/3 Cost: 4.942880\n",
      "Epoch    3/20 Batch 3/3 Cost: 2.614161\n",
      "Epoch    4/20 Batch 1/3 Cost: 5.344432\n",
      "Epoch    4/20 Batch 2/3 Cost: 3.905001\n",
      "Epoch    4/20 Batch 3/3 Cost: 0.899192\n",
      "Epoch    5/20 Batch 1/3 Cost: 4.639771\n",
      "Epoch    5/20 Batch 2/3 Cost: 3.672029\n",
      "Epoch    5/20 Batch 3/3 Cost: 1.839903\n",
      "Epoch    6/20 Batch 1/3 Cost: 4.223230\n",
      "Epoch    6/20 Batch 2/3 Cost: 0.900192\n",
      "Epoch    6/20 Batch 3/3 Cost: 9.621016\n",
      "Epoch    7/20 Batch 1/3 Cost: 3.950175\n",
      "Epoch    7/20 Batch 2/3 Cost: 4.313682\n",
      "Epoch    7/20 Batch 3/3 Cost: 4.075857\n",
      "Epoch    8/20 Batch 1/3 Cost: 2.706760\n",
      "Epoch    8/20 Batch 2/3 Cost: 4.833927\n",
      "Epoch    8/20 Batch 3/3 Cost: 3.495284\n",
      "Epoch    9/20 Batch 1/3 Cost: 4.439368\n",
      "Epoch    9/20 Batch 2/3 Cost: 2.011339\n",
      "Epoch    9/20 Batch 3/3 Cost: 7.098611\n",
      "Epoch   10/20 Batch 1/3 Cost: 3.430357\n",
      "Epoch   10/20 Batch 2/3 Cost: 6.452571\n",
      "Epoch   10/20 Batch 3/3 Cost: 6.007945\n",
      "Epoch   11/20 Batch 1/3 Cost: 6.096770\n",
      "Epoch   11/20 Batch 2/3 Cost: 5.394857\n",
      "Epoch   11/20 Batch 3/3 Cost: 0.697160\n",
      "Epoch   12/20 Batch 1/3 Cost: 3.506606\n",
      "Epoch   12/20 Batch 2/3 Cost: 2.211078\n",
      "Epoch   12/20 Batch 3/3 Cost: 9.667074\n",
      "Epoch   13/20 Batch 1/3 Cost: 2.333797\n",
      "Epoch   13/20 Batch 2/3 Cost: 4.727608\n",
      "Epoch   13/20 Batch 3/3 Cost: 2.892688\n",
      "Epoch   14/20 Batch 1/3 Cost: 1.161170\n",
      "Epoch   14/20 Batch 2/3 Cost: 9.266232\n",
      "Epoch   14/20 Batch 3/3 Cost: 3.036281\n",
      "Epoch   15/20 Batch 1/3 Cost: 0.580404\n",
      "Epoch   15/20 Batch 2/3 Cost: 5.565959\n",
      "Epoch   15/20 Batch 3/3 Cost: 5.766198\n",
      "Epoch   16/20 Batch 1/3 Cost: 3.635662\n",
      "Epoch   16/20 Batch 2/3 Cost: 3.947620\n",
      "Epoch   16/20 Batch 3/3 Cost: 2.538288\n",
      "Epoch   17/20 Batch 1/3 Cost: 0.693228\n",
      "Epoch   17/20 Batch 2/3 Cost: 5.500705\n",
      "Epoch   17/20 Batch 3/3 Cost: 5.641785\n",
      "Epoch   18/20 Batch 1/3 Cost: 4.706042\n",
      "Epoch   18/20 Batch 2/3 Cost: 2.993645\n",
      "Epoch   18/20 Batch 3/3 Cost: 6.189949\n",
      "Epoch   19/20 Batch 1/3 Cost: 4.940350\n",
      "Epoch   19/20 Batch 2/3 Cost: 3.998218\n",
      "Epoch   19/20 Batch 3/3 Cost: 4.808215\n",
      "Epoch   20/20 Batch 1/3 Cost: 3.692330\n",
      "Epoch   20/20 Batch 2/3 Cost: 4.718202\n",
      "Epoch   20/20 Batch 3/3 Cost: 5.049736\n"
     ]
    }
   ],
   "source": [
    "nb_epochs = 20\n",
    "for epoch in range(nb_epochs + 1):\n",
    "  for batch_idx, samples in enumerate(dataloader):\n",
    "    #print(batch_idx)\n",
    "    #print(samples)\n",
    "    x_train, y_train = samples\n",
    "    prediction = model(x_train)\n",
    "\n",
    "    cost = F.mse_loss(prediction, y_train)\n",
    "\n",
    "    optimizer.zero_grad()\n",
    "    cost.backward()\n",
    "    optimizer.step()\n",
    "\n",
    "    print('Epoch {:4d}/{} Batch {}/{} Cost: {:.6f}'.format(\n",
    "        epoch, nb_epochs, batch_idx+1, len(dataloader),\n",
    "        cost.item()\n",
    "        ))\n"
   ]
  },
  {
   "cell_type": "code",
   "execution_count": null,
   "metadata": {},
   "outputs": [],
   "source": []
  },
  {
   "cell_type": "code",
   "execution_count": null,
   "metadata": {},
   "outputs": [],
   "source": []
  }
 ],
 "metadata": {
  "kernelspec": {
   "display_name": "Python 3",
   "language": "python",
   "name": "python3"
  },
  "language_info": {
   "codemirror_mode": {
    "name": "ipython",
    "version": 3
   },
   "file_extension": ".py",
   "mimetype": "text/x-python",
   "name": "python",
   "nbconvert_exporter": "python",
   "pygments_lexer": "ipython3",
   "version": "3.7.4"
  }
 },
 "nbformat": 4,
 "nbformat_minor": 4
}
