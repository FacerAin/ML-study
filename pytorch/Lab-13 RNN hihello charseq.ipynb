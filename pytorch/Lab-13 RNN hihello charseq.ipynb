{
 "nbformat": 4,
 "nbformat_minor": 2,
 "metadata": {
  "language_info": {
   "name": "python",
   "codemirror_mode": {
    "name": "ipython",
    "version": 3
   },
   "version": "3.7.4-final"
  },
  "orig_nbformat": 2,
  "file_extension": ".py",
  "mimetype": "text/x-python",
  "name": "python",
  "npconvert_exporter": "python",
  "pygments_lexer": "ipython3",
  "version": 3,
  "kernelspec": {
   "name": "python3",
   "display_name": "Python 3"
  }
 },
 "cells": [
  {
   "cell_type": "code",
   "execution_count": 32,
   "metadata": {},
   "outputs": [],
   "source": [
    "import torch\n",
    "import torch.optim as optim\n",
    "import numpy as np"
   ]
  },
  {
   "cell_type": "code",
   "execution_count": 33,
   "metadata": {},
   "outputs": [
    {
     "output_type": "execute_result",
     "data": {
      "text/plain": "<torch._C.Generator at 0x26ec7eeb930>"
     },
     "metadata": {},
     "execution_count": 33
    }
   ],
   "source": [
    "torch.manual_seed(0)"
   ]
  },
  {
   "cell_type": "code",
   "execution_count": 34,
   "metadata": {},
   "outputs": [],
   "source": [
    "sample = \"my name is david\""
   ]
  },
  {
   "cell_type": "code",
   "execution_count": 35,
   "metadata": {},
   "outputs": [
    {
     "output_type": "stream",
     "name": "stdout",
     "text": "{'v': 0, 'a': 1, 'i': 2, ' ': 3, 'm': 4, 'e': 5, 'n': 6, 'y': 7, 's': 8, 'd': 9}\n"
    }
   ],
   "source": [
    "char_set = list(set(sample))\n",
    "char_dic = {c: i for i, c in enumerate(char_set)}\n",
    "print(char_dic)"
   ]
  },
  {
   "cell_type": "code",
   "execution_count": 36,
   "metadata": {},
   "outputs": [],
   "source": [
    "dic_size = len(char_dic)\n",
    "hidden_size = len(char_dic)\n",
    "learning_rate = 0.1"
   ]
  },
  {
   "cell_type": "code",
   "execution_count": 37,
   "metadata": {},
   "outputs": [],
   "source": [
    "sample_idx = [char_dic[c] for c in sample]\n",
    "x_data = [sample_idx[:-1]]\n",
    "x_one_hot = [np.eye(dic_size)[x] for x in x_data]\n",
    "y_data = [sample_idx[1:]]"
   ]
  },
  {
   "cell_type": "code",
   "execution_count": 38,
   "metadata": {},
   "outputs": [],
   "source": [
    "X = torch.FloatTensor(x_one_hot)\n",
    "Y = torch.LongTensor(y_data)"
   ]
  },
  {
   "cell_type": "code",
   "execution_count": 39,
   "metadata": {},
   "outputs": [],
   "source": [
    "rnn = torch.nn.RNN(dic_size, hidden_size, batch_first=True)"
   ]
  },
  {
   "cell_type": "code",
   "execution_count": 40,
   "metadata": {},
   "outputs": [],
   "source": [
    "criterion = torch.nn.CrossEntropyLoss()\n",
    "optimizer = optim.Adam(rnn.parameters(), learning_rate)"
   ]
  },
  {
   "cell_type": "code",
   "execution_count": 41,
   "metadata": {},
   "outputs": [
    {
     "output_type": "stream",
     "name": "stdout",
     "text": "0 loss:2.302734136581421prediction:[[5 0 5 8 8 7 7 7 8 8 7 8 5 7 8]]true Y:[[7, 3, 6, 1, 4, 5, 3, 2, 8, 3, 9, 1, 0, 2, 9]]prediction str:evessyyyssyseys\n1 loss:1.9542365074157715prediction:[[5 3 1 1 3 5 1 9 8 3 9 1 0 1 9]]true Y:[[7, 3, 6, 1, 4, 5, 3, 2, 8, 3, 9, 1, 0, 2, 9]]prediction str:e aa eads davad\n2 loss:1.7123788595199585prediction:[[7 3 1 1 3 8 3 9 8 3 9 1 3 1 9]]true Y:[[7, 3, 6, 1, 4, 5, 3, 2, 8, 3, 9, 1, 0, 2, 9]]prediction str:y aa s ds da ad\n3 loss:1.5414586067199707prediction:[[7 3 9 1 4 8 3 9 8 3 9 1 3 2 9]]true Y:[[7, 3, 6, 1, 4, 5, 3, 2, 8, 3, 9, 1, 0, 2, 9]]prediction str:y dams ds da id\n4 loss:1.4291020631790161prediction:[[7 3 9 1 4 5 3 9 8 3 9 1 3 2 9]]true Y:[[7, 3, 6, 1, 4, 5, 3, 2, 8, 3, 9, 1, 0, 2, 9]]prediction str:y dame ds da id\n5 loss:1.3416239023208618prediction:[[7 3 6 1 4 5 3 9 8 3 9 1 3 2 9]]true Y:[[7, 3, 6, 1, 4, 5, 3, 2, 8, 3, 9, 1, 0, 2, 9]]prediction str:y name ds da id\n6 loss:1.2761095762252808prediction:[[7 3 6 1 0 5 3 2 8 3 9 1 0 2 9]]true Y:[[7, 3, 6, 1, 4, 5, 3, 2, 8, 3, 9, 1, 0, 2, 9]]prediction str:y nave is david\n7 loss:1.205694317817688prediction:[[7 3 6 1 0 5 3 2 8 3 2 1 0 2 9]]true Y:[[7, 3, 6, 1, 4, 5, 3, 2, 8, 3, 9, 1, 0, 2, 9]]prediction str:y nave is iavid\n8 loss:1.1500169038772583prediction:[[7 3 6 1 4 5 3 2 8 3 2 1 0 2 9]]true Y:[[7, 3, 6, 1, 4, 5, 3, 2, 8, 3, 9, 1, 0, 2, 9]]prediction str:y name is iavid\n9 loss:1.108642816543579prediction:[[7 3 6 1 4 5 3 2 8 3 2 1 0 2 9]]true Y:[[7, 3, 6, 1, 4, 5, 3, 2, 8, 3, 9, 1, 0, 2, 9]]prediction str:y name is iavid\n10 loss:1.0802253484725952prediction:[[7 3 6 1 4 5 3 2 8 3 2 1 0 2 9]]true Y:[[7, 3, 6, 1, 4, 5, 3, 2, 8, 3, 9, 1, 0, 2, 9]]prediction str:y name is iavid\n11 loss:1.058841586112976prediction:[[7 3 6 1 4 5 3 2 8 3 2 1 0 2 9]]true Y:[[7, 3, 6, 1, 4, 5, 3, 2, 8, 3, 9, 1, 0, 2, 9]]prediction str:y name is iavid\n12 loss:1.0410462617874146prediction:[[7 3 6 1 4 5 3 2 8 3 2 1 0 2 9]]true Y:[[7, 3, 6, 1, 4, 5, 3, 2, 8, 3, 9, 1, 0, 2, 9]]prediction str:y name is iavid\n13 loss:1.0224573612213135prediction:[[7 3 6 1 4 5 3 2 8 3 2 1 0 2 9]]true Y:[[7, 3, 6, 1, 4, 5, 3, 2, 8, 3, 9, 1, 0, 2, 9]]prediction str:y name is iavid\n14 loss:1.004636526107788prediction:[[7 3 6 1 4 5 3 2 8 3 2 1 0 2 9]]true Y:[[7, 3, 6, 1, 4, 5, 3, 2, 8, 3, 9, 1, 0, 2, 9]]prediction str:y name is iavid\n15 loss:0.9940193295478821prediction:[[7 3 6 1 4 5 3 2 8 3 2 1 0 2 9]]true Y:[[7, 3, 6, 1, 4, 5, 3, 2, 8, 3, 9, 1, 0, 2, 9]]prediction str:y name is iavid\n16 loss:0.982721209526062prediction:[[7 3 6 1 4 5 3 2 8 3 2 1 0 2 9]]true Y:[[7, 3, 6, 1, 4, 5, 3, 2, 8, 3, 9, 1, 0, 2, 9]]prediction str:y name is iavid\n17 loss:0.971524178981781prediction:[[7 3 6 1 4 5 3 2 8 3 2 1 0 2 9]]true Y:[[7, 3, 6, 1, 4, 5, 3, 2, 8, 3, 9, 1, 0, 2, 9]]prediction str:y name is iavid\n18 loss:0.9611788988113403prediction:[[7 3 6 1 4 5 3 2 8 3 2 1 0 2 9]]true Y:[[7, 3, 6, 1, 4, 5, 3, 2, 8, 3, 9, 1, 0, 2, 9]]prediction str:y name is iavid\n19 loss:0.9492330551147461prediction:[[7 3 6 1 4 5 3 2 8 3 2 1 0 2 9]]true Y:[[7, 3, 6, 1, 4, 5, 3, 2, 8, 3, 9, 1, 0, 2, 9]]prediction str:y name is iavid\n20 loss:0.9413014054298401prediction:[[7 3 6 1 4 5 3 2 8 3 2 1 0 2 9]]true Y:[[7, 3, 6, 1, 4, 5, 3, 2, 8, 3, 9, 1, 0, 2, 9]]prediction str:y name is iavid\n21 loss:0.9354780912399292prediction:[[7 3 6 1 4 5 3 2 8 3 2 1 0 2 9]]true Y:[[7, 3, 6, 1, 4, 5, 3, 2, 8, 3, 9, 1, 0, 2, 9]]prediction str:y name is iavid\n22 loss:0.9288858771324158prediction:[[7 3 6 1 4 5 3 2 8 3 2 1 0 2 9]]true Y:[[7, 3, 6, 1, 4, 5, 3, 2, 8, 3, 9, 1, 0, 2, 9]]prediction str:y name is iavid\n23 loss:0.9238207936286926prediction:[[7 3 6 1 4 5 3 2 8 3 2 1 0 2 9]]true Y:[[7, 3, 6, 1, 4, 5, 3, 2, 8, 3, 9, 1, 0, 2, 9]]prediction str:y name is iavid\n24 loss:0.919502854347229prediction:[[7 3 6 1 4 5 3 2 8 3 2 1 0 2 9]]true Y:[[7, 3, 6, 1, 4, 5, 3, 2, 8, 3, 9, 1, 0, 2, 9]]prediction str:y name is iavid\n25 loss:0.9154431223869324prediction:[[7 3 6 1 4 5 3 2 8 3 2 1 0 2 9]]true Y:[[7, 3, 6, 1, 4, 5, 3, 2, 8, 3, 9, 1, 0, 2, 9]]prediction str:y name is iavid\n26 loss:0.9132975339889526prediction:[[7 3 6 1 4 5 3 2 8 3 2 1 0 2 9]]true Y:[[7, 3, 6, 1, 4, 5, 3, 2, 8, 3, 9, 1, 0, 2, 9]]prediction str:y name is iavid\n27 loss:0.9111966490745544prediction:[[7 3 6 1 4 5 3 2 8 3 2 1 0 2 9]]true Y:[[7, 3, 6, 1, 4, 5, 3, 2, 8, 3, 9, 1, 0, 2, 9]]prediction str:y name is iavid\n28 loss:0.9070403575897217prediction:[[7 3 6 1 4 5 3 2 8 3 2 1 0 2 9]]true Y:[[7, 3, 6, 1, 4, 5, 3, 2, 8, 3, 9, 1, 0, 2, 9]]prediction str:y name is iavid\n29 loss:0.9041217565536499prediction:[[7 3 6 1 4 5 3 2 8 3 2 1 0 2 9]]true Y:[[7, 3, 6, 1, 4, 5, 3, 2, 8, 3, 9, 1, 0, 2, 9]]prediction str:y name is iavid\n30 loss:0.9013002514839172prediction:[[7 3 6 1 4 5 3 2 8 3 2 1 0 2 9]]true Y:[[7, 3, 6, 1, 4, 5, 3, 2, 8, 3, 9, 1, 0, 2, 9]]prediction str:y name is iavid\n31 loss:0.8986711502075195prediction:[[7 3 6 1 4 5 3 2 8 3 2 1 0 2 9]]true Y:[[7, 3, 6, 1, 4, 5, 3, 2, 8, 3, 9, 1, 0, 2, 9]]prediction str:y name is iavid\n32 loss:0.8968490362167358prediction:[[7 3 6 1 4 5 3 2 8 3 2 1 0 2 9]]true Y:[[7, 3, 6, 1, 4, 5, 3, 2, 8, 3, 9, 1, 0, 2, 9]]prediction str:y name is iavid\n33 loss:0.8948862552642822prediction:[[7 3 6 1 4 5 3 2 8 3 2 1 0 2 9]]true Y:[[7, 3, 6, 1, 4, 5, 3, 2, 8, 3, 9, 1, 0, 2, 9]]prediction str:y name is iavid\n34 loss:0.8929182291030884prediction:[[7 3 6 1 4 5 3 2 8 3 2 1 0 2 9]]true Y:[[7, 3, 6, 1, 4, 5, 3, 2, 8, 3, 9, 1, 0, 2, 9]]prediction str:y name is iavid\n35 loss:0.8908337950706482prediction:[[7 3 6 1 4 5 3 2 8 3 2 1 0 2 9]]true Y:[[7, 3, 6, 1, 4, 5, 3, 2, 8, 3, 9, 1, 0, 2, 9]]prediction str:y name is iavid\n36 loss:0.8889575600624084prediction:[[7 3 6 1 4 5 3 2 8 3 2 1 0 2 9]]true Y:[[7, 3, 6, 1, 4, 5, 3, 2, 8, 3, 9, 1, 0, 2, 9]]prediction str:y name is iavid\n37 loss:0.8877834677696228prediction:[[7 3 6 1 4 5 3 2 8 3 2 1 0 2 9]]true Y:[[7, 3, 6, 1, 4, 5, 3, 2, 8, 3, 9, 1, 0, 2, 9]]prediction str:y name is iavid\n38 loss:0.886283278465271prediction:[[7 3 6 1 4 5 3 2 8 3 2 1 0 2 9]]true Y:[[7, 3, 6, 1, 4, 5, 3, 2, 8, 3, 9, 1, 0, 2, 9]]prediction str:y name is iavid\n39 loss:0.8848907351493835prediction:[[7 3 6 1 4 5 3 2 8 3 2 1 0 2 9]]true Y:[[7, 3, 6, 1, 4, 5, 3, 2, 8, 3, 9, 1, 0, 2, 9]]prediction str:y name is iavid\n40 loss:0.8840253353118896prediction:[[7 3 6 1 4 5 3 2 8 3 2 1 0 2 9]]true Y:[[7, 3, 6, 1, 4, 5, 3, 2, 8, 3, 9, 1, 0, 2, 9]]prediction str:y name is iavid\n41 loss:0.8828659653663635prediction:[[7 3 6 1 4 5 3 2 8 3 2 1 0 2 9]]true Y:[[7, 3, 6, 1, 4, 5, 3, 2, 8, 3, 9, 1, 0, 2, 9]]prediction str:y name is iavid\n42 loss:0.8815357089042664prediction:[[7 3 6 1 4 5 3 2 8 3 2 1 0 2 9]]true Y:[[7, 3, 6, 1, 4, 5, 3, 2, 8, 3, 9, 1, 0, 2, 9]]prediction str:y name is iavid\n43 loss:0.8803788423538208prediction:[[7 3 6 1 4 5 3 2 8 3 2 1 0 2 9]]true Y:[[7, 3, 6, 1, 4, 5, 3, 2, 8, 3, 9, 1, 0, 2, 9]]prediction str:y name is iavid\n44 loss:0.8791273236274719prediction:[[7 3 6 1 4 5 3 2 8 3 2 1 0 2 9]]true Y:[[7, 3, 6, 1, 4, 5, 3, 2, 8, 3, 9, 1, 0, 2, 9]]prediction str:y name is iavid\n45 loss:0.8782468438148499prediction:[[7 3 6 1 4 5 3 2 8 3 2 1 0 2 9]]true Y:[[7, 3, 6, 1, 4, 5, 3, 2, 8, 3, 9, 1, 0, 2, 9]]prediction str:y name is iavid\n46 loss:0.8773929476737976prediction:[[7 3 6 1 4 5 3 2 8 3 2 1 0 2 9]]true Y:[[7, 3, 6, 1, 4, 5, 3, 2, 8, 3, 9, 1, 0, 2, 9]]prediction str:y name is iavid\n47 loss:0.8763597011566162prediction:[[7 3 6 1 4 5 3 2 8 3 2 1 0 2 9]]true Y:[[7, 3, 6, 1, 4, 5, 3, 2, 8, 3, 9, 1, 0, 2, 9]]prediction str:y name is iavid\n48 loss:0.8755080103874207prediction:[[7 3 6 1 4 5 3 2 8 3 2 1 0 2 9]]true Y:[[7, 3, 6, 1, 4, 5, 3, 2, 8, 3, 9, 1, 0, 2, 9]]prediction str:y name is iavid\n49 loss:0.8746451139450073prediction:[[7 3 6 1 4 5 3 2 8 3 2 1 0 2 9]]true Y:[[7, 3, 6, 1, 4, 5, 3, 2, 8, 3, 9, 1, 0, 2, 9]]prediction str:y name is iavid\n"
    }
   ],
   "source": [
    "for i in range(50):\n",
    "    optimizer.zero_grad()\n",
    "    outputs, _status = rnn(X)\n",
    "    loss = criterion(outputs.view(-1, dic_size), Y.view(-1))\n",
    "    loss.backward()\n",
    "    optimizer.step()\n",
    "\n",
    "    result = outputs.data.numpy().argmax(axis=2)\n",
    "    result_str = ''.join([char_set[c] for c in np.squeeze(result)])\n",
    "    print(i, \" loss: \", loss.item(), \"prediction: \", result, \"true Y: \", y_data, \"prediction str: \", result_str)"
   ]
  },
  {
   "cell_type": "code",
   "execution_count": null,
   "metadata": {},
   "outputs": [],
   "source": []
  }
 ]
}